{
 "cells": [
  {
   "cell_type": "markdown",
   "id": "f034c1ed",
   "metadata": {},
   "source": [
    "### 1. Terminal\n",
    "venv activation block:  \n",
    "    --> set execution policy with scope"
   ]
  },
  {
   "cell_type": "code",
   "execution_count": null,
   "id": "8848c194",
   "metadata": {
    "vscode": {
     "languageId": "plaintext"
    }
   },
   "outputs": [],
   "source": [
    "Get-ExecutionPolicy\n",
    "Set-ExecutionPolicy -ExecutionPolicy RemoteSigned -Scope Process"
   ]
  },
  {
   "cell_type": "markdown",
   "id": "8b08efe5",
   "metadata": {},
   "source": [
    "### 2. Venv, git, github\n",
    "Workflow: GiVIgVaC (**G**it**i**nit - **V**env - git**Ig**nore - **V**env**a**ctivate - **C**ommit)\n",
    "+ init git\n",
    "+ create venv\n",
    "+ gitignore add venv, pycache, apikeys (**LoSSe** - **Lo**cal, **S**ystem-specific, **Se**nsitive)\n",
    "+ activate venv\n",
    "+ install dependency\n",
    "+ requirements.txt --> `pip freeze > requirements.txt`\n",
    "+ commit like usual, push if needed"
   ]
  },
  {
   "cell_type": "markdown",
   "id": "4175de6b",
   "metadata": {},
   "source": [
    "### 3. Streamlit  \n",
    "+ `st.write()` OP\n",
    "+ widgets (components to write to da web)\n",
    "+ layout tricks: sidebar\n",
    "\n",
    "+ note to self: *save before running in terminal*\n",
    "\n",
    "+ resource: \n",
    "    + [cheat sheet](https://docs.streamlit.io/develop/quick-reference/cheat-sheet)\n",
    "    + [30-day challenge](https://30days.streamlit.app/?challenge=Day1)\n",
    "    + `streamlit hello` for demos"
   ]
  }
 ],
 "metadata": {
  "language_info": {
   "name": "python"
  }
 },
 "nbformat": 4,
 "nbformat_minor": 5
}
